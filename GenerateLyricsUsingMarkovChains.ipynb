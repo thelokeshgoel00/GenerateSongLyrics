{
 "cells": [
  {
   "cell_type": "code",
   "execution_count": null,
   "metadata": {},
   "outputs": [],
   "source": [
    "# TODO: Use different Random seed to generate different outputs"
   ]
  },
  {
   "cell_type": "code",
   "execution_count": 20,
   "metadata": {},
   "outputs": [],
   "source": [
    "import numpy as np\n",
    "np.random.seed(5)"
   ]
  },
  {
   "cell_type": "code",
   "execution_count": 21,
   "metadata": {},
   "outputs": [],
   "source": [
    "def generateTable(data,k=4):\n",
    "    T = {}\n",
    "    for i in range(len(data)-k):\n",
    "        X = data[i:i+k]\n",
    "        Y = data[i+k]\n",
    "        \n",
    "        if T.get(X) is None:\n",
    "            T[X] = {}\n",
    "            T[X][Y] = 1\n",
    "        else:\n",
    "            if T[X].get(Y) is None:\n",
    "                T[X][Y]=1\n",
    "            else:\n",
    "                T[X][Y]+=1\n",
    "                \n",
    "    \n",
    "    return T"
   ]
  },
  {
   "cell_type": "code",
   "execution_count": 22,
   "metadata": {},
   "outputs": [
    {
     "name": "stdout",
     "output_type": "stream",
     "text": [
      "{'hell': {'o': 2, 'i': 1}, 'ello': {' ': 2}, 'llo ': {'h': 2}, 'lo h': {'e': 2}, 'o he': {'l': 2}, ' hel': {'l': 2}}\n"
     ]
    }
   ],
   "source": [
    "T = generateTable(\"hello hello helli\")\n",
    "print(T)"
   ]
  },
  {
   "cell_type": "code",
   "execution_count": 23,
   "metadata": {},
   "outputs": [],
   "source": [
    "def convertFreqIntoProb(T):\n",
    "    for kx in T.keys():\n",
    "        s = float(sum(T[kx].values()))\n",
    "        for k in T[kx].keys():\n",
    "            T[kx][k] = T[kx][k]/s\n",
    "    return T"
   ]
  },
  {
   "cell_type": "code",
   "execution_count": 24,
   "metadata": {},
   "outputs": [
    {
     "name": "stdout",
     "output_type": "stream",
     "text": [
      "{'hell': {'o': 0.6666666666666666, 'i': 0.3333333333333333}, 'ello': {' ': 1.0}, 'llo ': {'h': 1.0}, 'lo h': {'e': 1.0}, 'o he': {'l': 1.0}, ' hel': {'l': 1.0}}\n"
     ]
    }
   ],
   "source": [
    "T = convertFreqIntoProb(T)\n",
    "print(T)"
   ]
  },
  {
   "cell_type": "code",
   "execution_count": 25,
   "metadata": {},
   "outputs": [],
   "source": [
    "# The Training Path should be given here\n",
    "text_path = \"Datasets/Apna Time Aayega.txt\"\n",
    "def load_text(filename):\n",
    "    with open(filename,encoding='utf8') as f:\n",
    "        return f.read().lower()\n",
    "text=load_text(text_path)"
   ]
  },
  {
   "cell_type": "code",
   "execution_count": 26,
   "metadata": {},
   "outputs": [
    {
     "name": "stdout",
     "output_type": "stream",
     "text": [
      "apna time aayega\n",
      "uth ja apni raakh se\n",
      "tu udd ja ab talaash mein\n",
      "parwaaz dekh parwane ki\n",
      "aasman bhi sar uthayega\n",
      "aayega apna time aayega\n",
      "mere jaisa shaana lala\n",
      "tujhe na mil payega\n",
      " \n",
      "yeh shabdon ka jwala\n",
      "meri bediyan pighlayega\n",
      "jitna toone boya hai tu\n",
      "utna hi to khaayega\n",
      "aisa mera khwaab hai\n",
      "jo darr ko bhi satayega\n",
      "zinda mera khwaab\n",
      "ab kaise tu dafnayega\n",
      " \n",
      "ab hausle se jeene de\n",
      "ab khauf nahi hai seene mein\n",
      "har raaste ko cheerenge\n",
      "hum kaamyabi chheenenge\n",
      "sab kuchh mila paseene se\n",
      "matlab bana ab jeene mein\n",
      " \n",
      "kyon\n",
      "kyon ki apna time aayega\n",
      " \n",
      "tu nanga hi to aaya hai\n",
      "kya ghanta lekar jaayega\n",
      "apna time aayega\n",
      "apna time aayega\n",
      "apna time aayega\n",
      "\n",
      "tu nanga hi to aaya hai\n",
      "kya ghanta lekar jaayega\n",
      "apna time aayega\n",
      "apna time aayega\n",
      "apna time aayega\n",
      " \n",
      "tu nanga hi to aaya hai\n",
      "kya ghanta lekar..\n",
      " \n",
      "kissi ka hath nahi tha sar par\n",
      "yahaan par aaya khud ki mehnat se main\n",
      "jitni taakat kismat mein nahi\n",
      "utni rehmat mein hai\n",
      "phir bhi ladka sehmat nahin hai\n",
      "kyon ki hairat nahi hai\n",
      "zaroorat yahaan marzi ki\n",
      "aur jurrat ki hai\n",
      " \n",
      "taakat ki hai, aafat ki\n",
      "himaakat ki, ibaadat ki\n",
      "adalat yeh hai chahat ki\n",
      "mohobbat ki, amaanat ki\n",
      "jeetne ki ab aadat ki hai\n",
      "shohrat ki ab laalach nai hai\n",
      "tere bhai jaisa koyi hard’ch nai hai\n",
      " \n",
      "iss harkat ne hi barkat di hai\n",
      "kyon?\n",
      " \n",
      "tu nanga hi to aaya hai\n",
      "kya ghanta lekar jaayega\n",
      "apna time aayega\n",
      "apna time aayega\n",
      "apna time aayega\n",
      " \n",
      "tu nanga hi to aaya hai\n",
      "kya ghanta lekar jaayega\n",
      "kya tu ghanta lekar jaayega\n",
      "apna time aayega\n",
      "apna time aayega\n"
     ]
    }
   ],
   "source": [
    "print(text[:10000])"
   ]
  },
  {
   "cell_type": "markdown",
   "metadata": {},
   "source": [
    "# Train Our Markov Chain"
   ]
  },
  {
   "cell_type": "code",
   "execution_count": 27,
   "metadata": {},
   "outputs": [],
   "source": [
    "def trainMarkovChain(text,k=4):\n",
    "    T = generateTable(text,k)\n",
    "    T = convertFreqIntoProb(T)\n",
    "    \n",
    "    return T"
   ]
  },
  {
   "cell_type": "code",
   "execution_count": 28,
   "metadata": {},
   "outputs": [],
   "source": [
    "model = trainMarkovChain(text)"
   ]
  },
  {
   "cell_type": "code",
   "execution_count": 29,
   "metadata": {},
   "outputs": [
    {
     "data": {
      "text/plain": [
       "738"
      ]
     },
     "execution_count": 29,
     "metadata": {},
     "output_type": "execute_result"
    }
   ],
   "source": [
    "len(model)"
   ]
  },
  {
   "cell_type": "markdown",
   "metadata": {},
   "source": [
    "# Generate Text At Prediction Time!"
   ]
  },
  {
   "cell_type": "code",
   "execution_count": 30,
   "metadata": {},
   "outputs": [],
   "source": [
    "# import numpy as np\n",
    "# np.random.seed(11)"
   ]
  },
  {
   "cell_type": "code",
   "execution_count": 31,
   "metadata": {},
   "outputs": [
    {
     "name": "stdout",
     "output_type": "stream",
     "text": [
      "apple\n",
      "banana\n",
      "apple\n",
      "mango\n",
      "apple\n",
      "apple\n",
      "apple\n",
      "apple\n",
      "apple\n",
      "apple\n"
     ]
    }
   ],
   "source": [
    "# Sampling\n",
    "fruits = ['apple','banana','mango']\n",
    "prob = [\"0.8\",\"0.1\",\"0.1\"]\n",
    "for i in range(10):\n",
    "    print(np.random.choice(fruits,p=prob))\n"
   ]
  },
  {
   "cell_type": "code",
   "execution_count": 32,
   "metadata": {},
   "outputs": [],
   "source": [
    "def sample_next(ctx,T,k=4):\n",
    "    tx = ctx[-k:]\n",
    "    if T.get(tx) is None:\n",
    "        return \" \"\n",
    "    possible_Chars = list(T[tx].keys())\n",
    "    possible_values = list(T[tx].values())\n",
    "    return np.random.choice(possible_Chars,p=possible_values)\n",
    "    "
   ]
  },
  {
   "cell_type": "code",
   "execution_count": 33,
   "metadata": {},
   "outputs": [
    {
     "data": {
      "text/plain": [
       "'e'"
      ]
     },
     "execution_count": 33,
     "metadata": {},
     "output_type": "execute_result"
    }
   ],
   "source": [
    "sample_next(\"apna tim\",model,4)"
   ]
  },
  {
   "cell_type": "code",
   "execution_count": 34,
   "metadata": {},
   "outputs": [],
   "source": [
    "def generateText(starting_sent,k=4,maxLen=2000):\n",
    "    sentence = starting_sent\n",
    "    ctx = sentence[-k:]\n",
    "    \n",
    "    for ix in range(maxLen):\n",
    "        next_prediction = sample_next(ctx,model)\n",
    "        sentence += next_prediction\n",
    "        ctx = sentence[-k:]\n",
    "    return sentence"
   ]
  },
  {
   "cell_type": "code",
   "execution_count": 35,
   "metadata": {},
   "outputs": [],
   "source": [
    "printText = generateText('apna')"
   ]
  },
  {
   "cell_type": "code",
   "execution_count": 36,
   "metadata": {},
   "outputs": [
    {
     "name": "stdout",
     "output_type": "stream",
     "text": [
      "apna time aayega\n",
      "aisa shabdon ki ab laalach nahi to aaya hai chheene mein nahi hai jaisa koyi hai\n",
      "zaroorat ki, amaana lala\n",
      "tujhe na mila paseene mein\n",
      "har raaste ko cheerenge\n",
      "hum kaamyabi chahat kismat mein\n",
      "har raakh se\n",
      "matlab bana lala\n",
      "mere jaisa mera khud ki mehnat se jeene mein\n",
      "har raaste ko bhi sar par aayega\n",
      "kya tu ghanta lekar jaayega\n",
      "jitni raakh se\n",
      "tu nanga hi tha sar par\n",
      "yahaan marzi ki\n",
      "jeetne ki mehnat ki hai\n",
      "kyon ki ab aadat ki apni rehmat mein nahi to aayega\n",
      " \n",
      "yeh hai\n",
      "kyon ki mehnat se main\n",
      "jitni raakh se\n",
      "tu nanga hi to aaya khud ki apna time aayega\n",
      " \n",
      "tu nanga hi to aayega\n",
      "aayega\n",
      "apna time aayega\n",
      " \n",
      "tu nanga hi to aaya hai seene se main\n",
      "jitni raakh se\n",
      "tu nanga hi to aayega\n",
      "apna time aayega\n",
      "apna time aayega\n",
      "zinda mera khwaab hai\n",
      "kya ghanta lekar jaayega\n",
      "zinda mera khwaab\n",
      "ab hai\n",
      "tere bhai seene mein hai\n",
      " \n",
      "iss harkat ki\n",
      "aur jurrat nahin hai\n",
      "tere bhai seene mein hai\n",
      "kyon?\n",
      " \n",
      "tu nanga hi barkat ki apna time aaya hai\n",
      " \n",
      "iss hard’ch nai hai\n",
      "zaroorat ki hai tu\n",
      "utna time aayega\n",
      "apna time aayega\n",
      " \n",
      "tu nanga hi to aaya hai\n",
      "jo darr ko bhi sar par aayega\n",
      "apna time aayega\n",
      " \n",
      "tu nanga hi barkat di hai, aafat ki ab laalach nai hai\n",
      "shohrat nahin hai\n",
      "kyon ki hai\n",
      "kya ghanta lekar..\n",
      " \n",
      "kyon?\n",
      " \n",
      "tu nanga hi to aayega\n",
      "apna time aayega\n",
      " \n",
      "tu udd ja ab talaash mein\n",
      "parwane ki\n",
      "mohobbat ki\n",
      "aasman bhi satayega\n",
      " \n",
      "ab hai, aafat ki, ibaadat ki\n",
      "adalat yeh hai\n",
      "kya ghanta lekar jaayega\n",
      "apna time aaya khwaab hausle se main\n",
      "jitni taakat ki, aafat ki\n",
      "jeetne ki\n",
      "himaakat ki hai\n",
      " \n",
      "iss hard’ch nahi to aaya hai\n",
      "kyon ki hai\n",
      "kya ghanta lekar..\n",
      " \n",
      "kyon ki hai\n",
      "kya ghanta lekar jaayega\n",
      "apna toone boya hai\n",
      " \n",
      "taakat nahi to aayega\n",
      "apna time aaya hath nahi harkat nahi to aayega\n",
      "apna time aayega\n",
      "kya ghanta lekar jaayega\n",
      "apna time aayega\n",
      "apna time aayega\n",
      "aisa koyi hard’ch nahi hai\n",
      "shohrat ki hai\n",
      "kyon?\n",
      " \n",
      "taakat di hai chheenenge\n",
      "sab khaayega\n",
      "apna time aayega\n",
      " \n",
      "ab khaayega\n",
      "aisa koyi hai\n",
      "jo darr ko bhi satayega\n",
      "jitna time aayega\n",
      "apna time aayega\n",
      "aisa koyi hai, aafat ki\n",
      "jeetne ki\n",
      "aur jurrat nahi\n",
      "utni rehmat nahi\n",
      "utni taaka\n"
     ]
    }
   ],
   "source": [
    "print(printText)"
   ]
  },
  {
   "cell_type": "code",
   "execution_count": 18,
   "metadata": {},
   "outputs": [],
   "source": [
    "f = open(\"./ApnaOutput.txt\",'w')\n",
    "f.write(printText)\n",
    "f.close()"
   ]
  },
  {
   "cell_type": "code",
   "execution_count": 19,
   "metadata": {},
   "outputs": [],
   "source": []
  },
  {
   "cell_type": "code",
   "execution_count": null,
   "metadata": {},
   "outputs": [],
   "source": []
  },
  {
   "cell_type": "code",
   "execution_count": null,
   "metadata": {},
   "outputs": [],
   "source": []
  },
  {
   "cell_type": "code",
   "execution_count": null,
   "metadata": {},
   "outputs": [],
   "source": []
  }
 ],
 "metadata": {
  "kernelspec": {
   "display_name": "Python 3",
   "language": "python",
   "name": "python3"
  },
  "language_info": {
   "codemirror_mode": {
    "name": "ipython",
    "version": 3
   },
   "file_extension": ".py",
   "mimetype": "text/x-python",
   "name": "python",
   "nbconvert_exporter": "python",
   "pygments_lexer": "ipython3",
   "version": "3.7.6"
  }
 },
 "nbformat": 4,
 "nbformat_minor": 4
}
